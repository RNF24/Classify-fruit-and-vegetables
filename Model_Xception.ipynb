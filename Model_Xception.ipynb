{
  "cells": [
    {
      "cell_type": "markdown",
      "metadata": {
        "id": "view-in-github",
        "colab_type": "text"
      },
      "source": [
        "<a href=\"https://colab.research.google.com/github/RNF24/Classify-fruit-and-vegetables/blob/main/Model_Xception.ipynb\" target=\"_parent\"><img src=\"https://colab.research.google.com/assets/colab-badge.svg\" alt=\"Open In Colab\"/></a>"
      ]
    },
    {
      "cell_type": "markdown",
      "source": [
        "#Library"
      ],
      "metadata": {
        "id": "ZvM9uJeihEUb"
      }
    },
    {
      "cell_type": "code",
      "execution_count": null,
      "metadata": {
        "colab": {
          "base_uri": "https://localhost:8080/"
        },
        "id": "WOJ-jD8Vjidl",
        "outputId": "7a3111e2-80bb-4481-e67d-54dd6d484384"
      },
      "outputs": [
        {
          "output_type": "stream",
          "name": "stdout",
          "text": [
            "Looking in indexes: https://pypi.org/simple, https://us-python.pkg.dev/colab-wheels/public/simple/\n",
            "Collecting opendatasets\n",
            "  Downloading opendatasets-0.1.22-py3-none-any.whl (15 kB)\n",
            "Requirement already satisfied: tqdm in /usr/local/lib/python3.10/dist-packages (from opendatasets) (4.65.0)\n",
            "Requirement already satisfied: kaggle in /usr/local/lib/python3.10/dist-packages (from opendatasets) (1.5.13)\n",
            "Requirement already satisfied: click in /usr/local/lib/python3.10/dist-packages (from opendatasets) (8.1.3)\n",
            "Requirement already satisfied: six>=1.10 in /usr/local/lib/python3.10/dist-packages (from kaggle->opendatasets) (1.16.0)\n",
            "Requirement already satisfied: certifi in /usr/local/lib/python3.10/dist-packages (from kaggle->opendatasets) (2022.12.7)\n",
            "Requirement already satisfied: python-dateutil in /usr/local/lib/python3.10/dist-packages (from kaggle->opendatasets) (2.8.2)\n",
            "Requirement already satisfied: requests in /usr/local/lib/python3.10/dist-packages (from kaggle->opendatasets) (2.27.1)\n",
            "Requirement already satisfied: python-slugify in /usr/local/lib/python3.10/dist-packages (from kaggle->opendatasets) (8.0.1)\n",
            "Requirement already satisfied: urllib3 in /usr/local/lib/python3.10/dist-packages (from kaggle->opendatasets) (1.26.15)\n",
            "Requirement already satisfied: text-unidecode>=1.3 in /usr/local/lib/python3.10/dist-packages (from python-slugify->kaggle->opendatasets) (1.3)\n",
            "Requirement already satisfied: charset-normalizer~=2.0.0 in /usr/local/lib/python3.10/dist-packages (from requests->kaggle->opendatasets) (2.0.12)\n",
            "Requirement already satisfied: idna<4,>=2.5 in /usr/local/lib/python3.10/dist-packages (from requests->kaggle->opendatasets) (3.4)\n",
            "Installing collected packages: opendatasets\n",
            "Successfully installed opendatasets-0.1.22\n",
            "Looking in indexes: https://pypi.org/simple, https://us-python.pkg.dev/colab-wheels/public/simple/\n",
            "Collecting split-folders\n",
            "  Downloading split_folders-0.5.1-py3-none-any.whl (8.4 kB)\n",
            "Installing collected packages: split-folders\n",
            "Successfully installed split-folders-0.5.1\n"
          ]
        }
      ],
      "source": [
        "!pip install opendatasets\n",
        "!pip install split-folders"
      ]
    },
    {
      "cell_type": "code",
      "execution_count": null,
      "metadata": {
        "id": "0uthD4h_j842"
      },
      "outputs": [],
      "source": [
        "from keras.preprocessing.image import ImageDataGenerator\n",
        "from keras.models import Sequential\n",
        "from keras.layers import Dense, Conv2D, Flatten\n",
        "from keras.utils import Sequence\n",
        "\n",
        "import opendatasets as od\n",
        "import matplotlib.pyplot as plt\n",
        "import tensorflow as tf\n",
        "import numpy as np\n",
        "import splitfolders\n",
        "import pandas as pd\n",
        "import os\n",
        "\n",
        "import shutil\n",
        "from PIL import Image"
      ]
    },
    {
      "cell_type": "markdown",
      "metadata": {
        "id": "CLEwN7DJNKwh"
      },
      "source": [
        "#Download Dataset"
      ]
    },
    {
      "cell_type": "code",
      "execution_count": null,
      "metadata": {
        "colab": {
          "base_uri": "https://localhost:8080/"
        },
        "id": "1yCVqoBGkEjm",
        "outputId": "7b8de4b4-7616-46dc-804c-dcbb4a0caa45"
      },
      "outputs": [
        {
          "output_type": "stream",
          "name": "stdout",
          "text": [
            "Please provide your Kaggle credentials to download this dataset. Learn more: http://bit.ly/kaggle-creds\n",
            "Your Kaggle username: rahmanf24\n",
            "Your Kaggle Key: ··········\n",
            "Downloading fruits-and-vegetables-dataset.zip to ./fruits-and-vegetables-dataset\n"
          ]
        },
        {
          "output_type": "stream",
          "name": "stderr",
          "text": [
            "100%|██████████| 870M/870M [00:08<00:00, 103MB/s]\n"
          ]
        },
        {
          "output_type": "stream",
          "name": "stdout",
          "text": [
            "\n"
          ]
        }
      ],
      "source": [
        "od.download(\"https://www.kaggle.com/datasets/muhriddinmuxiddinov/fruits-and-vegetables-dataset\")"
      ]
    },
    {
      "cell_type": "markdown",
      "metadata": {
        "id": "hb87sIRjN0VT"
      },
      "source": [
        "#Split Folder"
      ]
    },
    {
      "cell_type": "code",
      "execution_count": null,
      "metadata": {
        "colab": {
          "base_uri": "https://localhost:8080/"
        },
        "id": "Edy9K3REkgWw",
        "outputId": "254dffa3-818a-41e4-f369-a26d93fa822c"
      },
      "outputs": [
        {
          "output_type": "stream",
          "name": "stderr",
          "text": [
            "Copying files: 5997 files [00:01, 3581.43 files/s]\n"
          ]
        }
      ],
      "source": [
        "splitfolders.ratio('/content/fruits-and-vegetables-dataset/Fruits_Vegetables_Dataset(12000)/Fruits',\n",
        "                   output=\"/content/fruits-and-vegetables-dataset/Fruits_Vegetables_Dataset/Fruits/\",\n",
        "                   seed=42,\n",
        "                   ratio=(0.8,0.1,0.1),\n",
        "                   group_prefix=None)"
      ]
    },
    {
      "cell_type": "code",
      "execution_count": null,
      "metadata": {
        "id": "DWMLLhftlAMb",
        "colab": {
          "base_uri": "https://localhost:8080/"
        },
        "outputId": "f17dfb38-9965-42fb-915e-1db920c43df4"
      },
      "outputs": [
        {
          "output_type": "stream",
          "name": "stderr",
          "text": [
            "Copying files: 6003 files [00:02, 2569.53 files/s]\n"
          ]
        }
      ],
      "source": [
        "splitfolders.ratio('/content/fruits-and-vegetables-dataset/Fruits_Vegetables_Dataset(12000)/Vegetables',\n",
        "                   output=\"/content/fruits-and-vegetables-dataset/Fruits_Vegetables_Dataset/Vegetables\",\n",
        "                   seed=42,\n",
        "                   ratio=(0.8,0.1,0.1),\n",
        "                   group_prefix=None)"
      ]
    },
    {
      "cell_type": "markdown",
      "source": [
        "#Merge Train and Test Data for Fruits and Vegetables"
      ],
      "metadata": {
        "id": "i1uQ35DVXwak"
      }
    },
    {
      "cell_type": "markdown",
      "source": [
        "Funtion for moving the directory"
      ],
      "metadata": {
        "id": "2m6xAtq2gjOX"
      }
    },
    {
      "cell_type": "code",
      "source": [
        "def move_dir(src, dest, dir_list):\n",
        "  for dir_ in dir_list:\n",
        "    source = os.path.join(src, dir_)\n",
        "\n",
        "    if os.path.isdir(source):\n",
        "        shutil.move(source, dest)"
      ],
      "metadata": {
        "id": "kzTw26JjgEcg"
      },
      "execution_count": null,
      "outputs": []
    },
    {
      "cell_type": "code",
      "source": [
        "def move_subdir(source, dest, subdir):\n",
        "  if not os.path.isdir(dest):\n",
        "      os.mkdir(dest)\n",
        "\n",
        "  src_path = os.path.join(source, subdir)\n",
        "  for item_list in os.listdir(src_path):\n",
        "      src = os.path.join(src_path, item_list)\n",
        "      dst = os.path.join(dest, item_list)\n",
        "      shutil.move(src, dst)\n",
        "\n",
        "  os.rmdir(src_path)"
      ],
      "metadata": {
        "id": "39RWqGJ9g1wF"
      },
      "execution_count": null,
      "outputs": []
    },
    {
      "cell_type": "markdown",
      "source": [
        "Train Data:\n",
        "\n",
        "Disini, mengambil train data fruits dan vegetable lalu menggabungkannya menjadi 1 train data"
      ],
      "metadata": {
        "id": "Jn0ERAnRqnD1"
      }
    },
    {
      "cell_type": "code",
      "source": [
        "source_path = '/content/fruits-and-vegetables-dataset/Fruits_Vegetables_Dataset/Fruits'\n",
        "\n",
        "dir_list = ['train']\n",
        "\n",
        "dest_path = '/content/fruits-and-vegetables-dataset/Fruits_Vegetables_Dataset'\n",
        "dest = os.path.join(dest_path, 'train')\n",
        "\n",
        "move_dir(source_path, dest, dir_list)"
      ],
      "metadata": {
        "id": "VwnE5KLSqu2z"
      },
      "execution_count": null,
      "outputs": []
    },
    {
      "cell_type": "code",
      "source": [
        "source_path = '/content/fruits-and-vegetables-dataset/Fruits_Vegetables_Dataset/Vegetables'\n",
        "\n",
        "subdir = 'train'\n",
        "\n",
        "dest_path = '/content/fruits-and-vegetables-dataset/Fruits_Vegetables_Dataset/train'\n",
        "\n",
        "move_subdir(source_path, dest_path, subdir)"
      ],
      "metadata": {
        "id": "26RjpPebqu20"
      },
      "execution_count": null,
      "outputs": []
    },
    {
      "cell_type": "markdown",
      "source": [
        "Validation Data:\n",
        "\n",
        "Disini, mengambil validasi data fruits dan vegetable lalu menggabungkannya menjadi 1 validasi data"
      ],
      "metadata": {
        "id": "HtsrTQywqFFt"
      }
    },
    {
      "cell_type": "code",
      "source": [
        "source_path = '/content/fruits-and-vegetables-dataset/Fruits_Vegetables_Dataset/Fruits'\n",
        "\n",
        "dir_list = ['val']\n",
        "\n",
        "dest_path = '/content/fruits-and-vegetables-dataset/Fruits_Vegetables_Dataset'\n",
        "dest = os.path.join(dest_path, 'val')\n",
        "\n",
        "move_dir(source_path, dest, dir_list)"
      ],
      "metadata": {
        "id": "cC8ZyLLqcSzB"
      },
      "execution_count": null,
      "outputs": []
    },
    {
      "cell_type": "code",
      "source": [
        "source_path = '/content/fruits-and-vegetables-dataset/Fruits_Vegetables_Dataset/Vegetables'\n",
        "\n",
        "subdir = 'val'\n",
        "\n",
        "dest_path = '/content/fruits-and-vegetables-dataset/Fruits_Vegetables_Dataset/val'\n",
        "\n",
        "move_subdir(source_path, dest_path, subdir)"
      ],
      "metadata": {
        "id": "jB4kwjkUmYbD"
      },
      "execution_count": null,
      "outputs": []
    },
    {
      "cell_type": "markdown",
      "source": [
        "Test Data:\n",
        "\n",
        "Disini, mengambil validasi data fruits dan vegetable lalu menggabungkannya menjadi 1 test data"
      ],
      "metadata": {
        "id": "RUU4Nq6nVOB5"
      }
    },
    {
      "cell_type": "code",
      "source": [
        "source_path = '/content/fruits-and-vegetables-dataset/Fruits_Vegetables_Dataset/Fruits'\n",
        "\n",
        "dir_list = ['test']\n",
        "\n",
        "dest_path = '/content/fruits-and-vegetables-dataset/Fruits_Vegetables_Dataset'\n",
        "dest = os.path.join(dest_path, 'test')\n",
        "\n",
        "move_dir(source_path, dest, dir_list)"
      ],
      "metadata": {
        "id": "AB9fSzwFVOCG"
      },
      "execution_count": null,
      "outputs": []
    },
    {
      "cell_type": "code",
      "source": [
        "source_path = '/content/fruits-and-vegetables-dataset/Fruits_Vegetables_Dataset/Vegetables'\n",
        "\n",
        "subdir = 'test'\n",
        "\n",
        "dest_path = '/content/fruits-and-vegetables-dataset/Fruits_Vegetables_Dataset/test'\n",
        "\n",
        "move_subdir(source_path, dest_path, subdir)"
      ],
      "metadata": {
        "id": "675XhgNzVOCH"
      },
      "execution_count": null,
      "outputs": []
    },
    {
      "cell_type": "markdown",
      "source": [
        "#Assign"
      ],
      "metadata": {
        "id": "4zj4a8v3XziF"
      }
    },
    {
      "cell_type": "code",
      "source": [
        "train_FileNames = os.path.join('/content/fruits-and-vegetables-dataset/Fruits_Vegetables_Dataset/train')\n",
        "val_FileNames = os.path.join('/content/fruits-and-vegetables-dataset/Fruits_Vegetables_Dataset/val')\n",
        "test_FileNames = os.path.join('/content/fruits-and-vegetables-dataset/Fruits_Vegetables_Dataset/test')"
      ],
      "metadata": {
        "id": "XgTE0_PEur4f"
      },
      "execution_count": null,
      "outputs": []
    },
    {
      "cell_type": "markdown",
      "source": [
        "Convert the RGBA"
      ],
      "metadata": {
        "id": "H0xb85xygdUh"
      }
    },
    {
      "cell_type": "code",
      "source": [
        "directory = \"/content/fruits-and-vegetables-dataset/Fruits_Vegetables_Dataset\"\n",
        "\n",
        "for root, _, files in os.walk(directory):\n",
        "    for file in files:\n",
        "        if file.endswith(\".png\") or file.endswith(\".webp\"):\n",
        "            image_path = os.path.join(root, file)\n",
        "\n",
        "            with Image.open(image_path) as img:\n",
        "                if img.mode == \"P\" and \"transparency\" in img.info:\n",
        "                    img = img.convert(\"RGBA\")\n",
        "\n",
        "                save_path = os.path.splitext(image_path)[0] + \".png\"\n",
        "                if file.endswith(\".webp\"):\n",
        "                    save_path = os.path.splitext(image_path)[0] + \".jpg\"\n",
        "\n",
        "                img.save(save_path)"
      ],
      "metadata": {
        "id": "A5wwApx0gnoK"
      },
      "execution_count": null,
      "outputs": []
    },
    {
      "cell_type": "markdown",
      "source": [
        "#Model"
      ],
      "metadata": {
        "id": "ziHskJS1t8Qk"
      }
    },
    {
      "cell_type": "code",
      "source": [
        "from tensorflow.keras.applications import Xception\n",
        "\n",
        "def create_pre_trained():\n",
        "  pre_trained_model =Xception(input_shape = (150, 150, 3),\n",
        "                                  include_top = False,\n",
        "                                  weights = 'imagenet',\n",
        "                                  pooling ='max',\n",
        "                                  classes = 20)\n",
        "\n",
        "  for layer in pre_trained_model.layers:\n",
        "    layer.trainable = False\n",
        "\n",
        "  return pre_trained_model"
      ],
      "metadata": {
        "id": "DIQ751lkW57M"
      },
      "execution_count": null,
      "outputs": []
    },
    {
      "cell_type": "code",
      "source": [
        "pre_trained_model = create_pre_trained()"
      ],
      "metadata": {
        "id": "tBL5hNxfXJ5Q",
        "colab": {
          "base_uri": "https://localhost:8080/"
        },
        "outputId": "34bf18fe-440b-44fc-ec36-e81cf6fcd5fe"
      },
      "execution_count": null,
      "outputs": [
        {
          "output_type": "stream",
          "name": "stdout",
          "text": [
            "Downloading data from https://storage.googleapis.com/tensorflow/keras-applications/xception/xception_weights_tf_dim_ordering_tf_kernels_notop.h5\n",
            "83683744/83683744 [==============================] - 1s 0us/step\n"
          ]
        }
      ]
    },
    {
      "cell_type": "code",
      "source": [
        "from tensorflow.keras import layers\n",
        "from tensorflow.keras import Model\n",
        "\n",
        "num_classes = 20\n",
        "\n",
        "def create_final_model(pre_trained_model, num_classes):\n",
        "  x = layers.Flatten()(pre_trained_model.output)\n",
        "  x = layers.Dense(216, activation='relu')(x)\n",
        "  x = layers.Dropout(0.2)(x)\n",
        "  x = layers.Dense(num_classes, activation='softmax')(x)\n",
        "\n",
        "  model = Model(inputs=pre_trained_model.input, outputs=x)\n",
        "\n",
        "  return model"
      ],
      "metadata": {
        "id": "hIF7dqboXqkL"
      },
      "execution_count": null,
      "outputs": []
    },
    {
      "cell_type": "code",
      "source": [
        "model = create_final_model(pre_trained_model, num_classes)"
      ],
      "metadata": {
        "id": "Z5z3M1byaVvg"
      },
      "execution_count": null,
      "outputs": []
    },
    {
      "cell_type": "markdown",
      "source": [
        "#Normalization"
      ],
      "metadata": {
        "id": "MCjib3xXgPmU"
      }
    },
    {
      "cell_type": "code",
      "source": [
        "from tensorflow.keras.preprocessing.image import ImageDataGenerator\n",
        "\n",
        "tf.random.set_seed(42)\n",
        "\n",
        "train_datagen = ImageDataGenerator(rescale=1./255,\n",
        "                                   rotation_range=40,\n",
        "                                   width_shift_range=0.2,\n",
        "                                   height_shift_range=0.2,\n",
        "                                   shear_range=0.2,\n",
        "                                   zoom_range=0.2,\n",
        "                                   horizontal_flip=True,\n",
        "                                   vertical_flip=True,\n",
        "                                   brightness_range=(0.2, 0.8),\n",
        "                                   fill_mode='nearest')\n",
        "\n",
        "val_datagen = ImageDataGenerator(rescale=1./255)\n",
        "\n",
        "train_generator = train_datagen.flow_from_directory(\n",
        "        train_FileNames,\n",
        "        target_size=(150, 150),\n",
        "        batch_size=20,\n",
        "        class_mode='categorical')\n",
        "\n",
        "validation_generator = val_datagen.flow_from_directory(\n",
        "        val_FileNames,\n",
        "        target_size=(150, 150),\n",
        "        batch_size=20,\n",
        "        class_mode='categorical')"
      ],
      "metadata": {
        "colab": {
          "base_uri": "https://localhost:8080/"
        },
        "id": "GH0QiCzkjEVF",
        "outputId": "e616ce84-845c-4386-a281-1fb53c53580c"
      },
      "execution_count": null,
      "outputs": [
        {
          "output_type": "stream",
          "name": "stdout",
          "text": [
            "Found 9582 images belonging to 20 classes.\n",
            "Found 1192 images belonging to 20 classes.\n"
          ]
        }
      ]
    },
    {
      "cell_type": "markdown",
      "source": [
        "#Adjust Learning Training"
      ],
      "metadata": {
        "id": "CywlDKVXcHBs"
      }
    },
    {
      "cell_type": "code",
      "source": [
        "def adjust_learning_rate():\n",
        "    lr_schedule = tf.keras.callbacks.LearningRateScheduler(lambda epoch: 1e-6 * 10**(epoch / 20))\n",
        "\n",
        "    optimizer = tf.keras.optimizers.SGD(learning_rate=1e-6, momentum=0.9)\n",
        "\n",
        "    model.compile(loss='categorical_crossentropy',\n",
        "                  optimizer=optimizer,\n",
        "                  metrics=[\"accuracy\"])\n",
        "\n",
        "    history = model.fit(train_generator, epochs=100, callbacks=[lr_schedule])\n",
        "\n",
        "    return history"
      ],
      "metadata": {
        "id": "CEnu8eKqcJ3s"
      },
      "execution_count": null,
      "outputs": []
    },
    {
      "cell_type": "code",
      "source": [
        "lr_history = adjust_learning_rate()"
      ],
      "metadata": {
        "colab": {
          "base_uri": "https://localhost:8080/"
        },
        "outputId": "ff80ae57-ce85-4324-bd2f-ab806309a43d",
        "id": "6sPi1dLDi8H_"
      },
      "execution_count": null,
      "outputs": [
        {
          "output_type": "stream",
          "name": "stdout",
          "text": [
            "Epoch 1/100\n",
            "480/480 [==============================] - 125s 236ms/step - loss: 3.1251 - accuracy: 0.0494 - lr: 1.0000e-06\n",
            "Epoch 2/100\n",
            "480/480 [==============================] - 114s 237ms/step - loss: 3.0810 - accuracy: 0.0533 - lr: 1.1220e-06\n",
            "Epoch 3/100\n",
            "480/480 [==============================] - 113s 236ms/step - loss: 3.0538 - accuracy: 0.0535 - lr: 1.2589e-06\n",
            "Epoch 4/100\n",
            "480/480 [==============================] - 119s 248ms/step - loss: 3.0247 - accuracy: 0.0620 - lr: 1.4125e-06\n",
            "Epoch 5/100\n",
            "480/480 [==============================] - 114s 237ms/step - loss: 2.9855 - accuracy: 0.0742 - lr: 1.5849e-06\n",
            "Epoch 6/100\n",
            "480/480 [==============================] - 113s 236ms/step - loss: 2.9615 - accuracy: 0.0810 - lr: 1.7783e-06\n",
            "Epoch 7/100\n",
            "480/480 [==============================] - 113s 235ms/step - loss: 2.9281 - accuracy: 0.0964 - lr: 1.9953e-06\n",
            "Epoch 8/100\n",
            "480/480 [==============================] - 114s 237ms/step - loss: 2.8945 - accuracy: 0.1121 - lr: 2.2387e-06\n",
            "Epoch 9/100\n",
            "480/480 [==============================] - 115s 239ms/step - loss: 2.8658 - accuracy: 0.1221 - lr: 2.5119e-06\n",
            "Epoch 10/100\n",
            "480/480 [==============================] - 112s 232ms/step - loss: 2.8302 - accuracy: 0.1401 - lr: 2.8184e-06\n",
            "Epoch 11/100\n",
            "480/480 [==============================] - 116s 242ms/step - loss: 2.7904 - accuracy: 0.1535 - lr: 3.1623e-06\n",
            "Epoch 12/100\n",
            "480/480 [==============================] - 117s 242ms/step - loss: 2.7438 - accuracy: 0.1886 - lr: 3.5481e-06\n",
            "Epoch 13/100\n",
            "480/480 [==============================] - 119s 247ms/step - loss: 2.6845 - accuracy: 0.2125 - lr: 3.9811e-06\n",
            "Epoch 14/100\n",
            "480/480 [==============================] - 115s 238ms/step - loss: 2.6333 - accuracy: 0.2433 - lr: 4.4668e-06\n",
            "Epoch 15/100\n",
            "480/480 [==============================] - 115s 240ms/step - loss: 2.5660 - accuracy: 0.2722 - lr: 5.0119e-06\n",
            "Epoch 16/100\n",
            "480/480 [==============================] - 115s 239ms/step - loss: 2.4764 - accuracy: 0.3105 - lr: 5.6234e-06\n",
            "Epoch 17/100\n",
            "480/480 [==============================] - 115s 239ms/step - loss: 2.4077 - accuracy: 0.3249 - lr: 6.3096e-06\n",
            "Epoch 18/100\n",
            "480/480 [==============================] - 114s 238ms/step - loss: 2.3130 - accuracy: 0.3554 - lr: 7.0795e-06\n",
            "Epoch 19/100\n",
            "480/480 [==============================] - 117s 244ms/step - loss: 2.2179 - accuracy: 0.3829 - lr: 7.9433e-06\n",
            "Epoch 20/100\n",
            "480/480 [==============================] - 119s 248ms/step - loss: 2.1100 - accuracy: 0.4227 - lr: 8.9125e-06\n",
            "Epoch 21/100\n",
            "480/480 [==============================] - 117s 244ms/step - loss: 2.0101 - accuracy: 0.4496 - lr: 1.0000e-05\n",
            "Epoch 22/100\n",
            "480/480 [==============================] - 118s 246ms/step - loss: 1.9108 - accuracy: 0.4722 - lr: 1.1220e-05\n",
            "Epoch 23/100\n",
            "480/480 [==============================] - 117s 243ms/step - loss: 1.8159 - accuracy: 0.4932 - lr: 1.2589e-05\n",
            "Epoch 24/100\n",
            "480/480 [==============================] - 121s 252ms/step - loss: 1.7226 - accuracy: 0.5213 - lr: 1.4125e-05\n",
            "Epoch 25/100\n",
            "480/480 [==============================] - 116s 241ms/step - loss: 1.6166 - accuracy: 0.5474 - lr: 1.5849e-05\n",
            "Epoch 26/100\n",
            "480/480 [==============================] - 118s 247ms/step - loss: 1.5434 - accuracy: 0.5687 - lr: 1.7783e-05\n",
            "Epoch 27/100\n",
            "480/480 [==============================] - 121s 253ms/step - loss: 1.4680 - accuracy: 0.5857 - lr: 1.9953e-05\n",
            "Epoch 28/100\n",
            "480/480 [==============================] - 119s 248ms/step - loss: 1.3927 - accuracy: 0.6030 - lr: 2.2387e-05\n",
            "Epoch 29/100\n",
            "480/480 [==============================] - 118s 245ms/step - loss: 1.3160 - accuracy: 0.6248 - lr: 2.5119e-05\n",
            "Epoch 30/100\n",
            "480/480 [==============================] - 120s 251ms/step - loss: 1.2462 - accuracy: 0.6371 - lr: 2.8184e-05\n",
            "Epoch 31/100\n",
            "480/480 [==============================] - 121s 252ms/step - loss: 1.1790 - accuracy: 0.6667 - lr: 3.1623e-05\n",
            "Epoch 32/100\n",
            "480/480 [==============================] - 121s 252ms/step - loss: 1.1328 - accuracy: 0.6781 - lr: 3.5481e-05\n",
            "Epoch 33/100\n",
            "480/480 [==============================] - 120s 249ms/step - loss: 1.0544 - accuracy: 0.6967 - lr: 3.9811e-05\n",
            "Epoch 34/100\n",
            "480/480 [==============================] - 116s 242ms/step - loss: 1.0140 - accuracy: 0.7026 - lr: 4.4668e-05\n",
            "Epoch 35/100\n",
            "480/480 [==============================] - 122s 254ms/step - loss: 0.9630 - accuracy: 0.7207 - lr: 5.0119e-05\n",
            "Epoch 36/100\n",
            "480/480 [==============================] - 122s 255ms/step - loss: 0.9181 - accuracy: 0.7320 - lr: 5.6234e-05\n",
            "Epoch 37/100\n",
            "480/480 [==============================] - 121s 252ms/step - loss: 0.8743 - accuracy: 0.7467 - lr: 6.3096e-05\n",
            "Epoch 38/100\n",
            "480/480 [==============================] - 119s 248ms/step - loss: 0.8307 - accuracy: 0.7554 - lr: 7.0795e-05\n",
            "Epoch 39/100\n",
            "480/480 [==============================] - 118s 246ms/step - loss: 0.7907 - accuracy: 0.7697 - lr: 7.9433e-05\n",
            "Epoch 40/100\n",
            "480/480 [==============================] - 120s 250ms/step - loss: 0.7630 - accuracy: 0.7753 - lr: 8.9125e-05\n",
            "Epoch 41/100\n",
            "480/480 [==============================] - 117s 243ms/step - loss: 0.7307 - accuracy: 0.7824 - lr: 1.0000e-04\n",
            "Epoch 42/100\n",
            "480/480 [==============================] - 121s 251ms/step - loss: 0.6987 - accuracy: 0.7924 - lr: 1.1220e-04\n",
            "Epoch 43/100\n",
            "480/480 [==============================] - 120s 250ms/step - loss: 0.6714 - accuracy: 0.8022 - lr: 1.2589e-04\n",
            "Epoch 44/100\n",
            "480/480 [==============================] - 120s 250ms/step - loss: 0.6332 - accuracy: 0.8129 - lr: 1.4125e-04\n",
            "Epoch 45/100\n",
            "480/480 [==============================] - 114s 238ms/step - loss: 0.6240 - accuracy: 0.8081 - lr: 1.5849e-04\n",
            "Epoch 46/100\n",
            "480/480 [==============================] - 118s 246ms/step - loss: 0.5937 - accuracy: 0.8220 - lr: 1.7783e-04\n",
            "Epoch 47/100\n",
            "480/480 [==============================] - 122s 254ms/step - loss: 0.5732 - accuracy: 0.8262 - lr: 1.9953e-04\n",
            "Epoch 48/100\n",
            "480/480 [==============================] - 121s 253ms/step - loss: 0.5347 - accuracy: 0.8397 - lr: 2.2387e-04\n",
            "Epoch 49/100\n",
            "480/480 [==============================] - 116s 242ms/step - loss: 0.5248 - accuracy: 0.8371 - lr: 2.5119e-04\n",
            "Epoch 50/100\n",
            "480/480 [==============================] - 119s 248ms/step - loss: 0.5102 - accuracy: 0.8448 - lr: 2.8184e-04\n",
            "Epoch 51/100\n",
            "480/480 [==============================] - 115s 240ms/step - loss: 0.4918 - accuracy: 0.8475 - lr: 3.1623e-04\n",
            "Epoch 52/100\n",
            "480/480 [==============================] - 112s 233ms/step - loss: 0.4754 - accuracy: 0.8512 - lr: 3.5481e-04\n",
            "Epoch 53/100\n",
            "480/480 [==============================] - 112s 234ms/step - loss: 0.4739 - accuracy: 0.8501 - lr: 3.9811e-04\n",
            "Epoch 54/100\n",
            "480/480 [==============================] - 112s 233ms/step - loss: 0.4492 - accuracy: 0.8569 - lr: 4.4668e-04\n",
            "Epoch 55/100\n",
            "480/480 [==============================] - 114s 238ms/step - loss: 0.4379 - accuracy: 0.8619 - lr: 5.0119e-04\n",
            "Epoch 56/100\n",
            "480/480 [==============================] - 115s 240ms/step - loss: 0.4323 - accuracy: 0.8621 - lr: 5.6234e-04\n",
            "Epoch 57/100\n",
            "480/480 [==============================] - 115s 239ms/step - loss: 0.4314 - accuracy: 0.8623 - lr: 6.3096e-04\n",
            "Epoch 58/100\n",
            "480/480 [==============================] - 116s 242ms/step - loss: 0.4259 - accuracy: 0.8612 - lr: 7.0795e-04\n",
            "Epoch 59/100\n",
            "480/480 [==============================] - 116s 241ms/step - loss: 0.4207 - accuracy: 0.8619 - lr: 7.9433e-04\n",
            "Epoch 60/100\n",
            "480/480 [==============================] - 117s 244ms/step - loss: 0.4217 - accuracy: 0.8619 - lr: 8.9125e-04\n",
            "Epoch 61/100\n",
            "480/480 [==============================] - 115s 240ms/step - loss: 0.4171 - accuracy: 0.8599 - lr: 0.0010\n",
            "Epoch 62/100\n",
            "480/480 [==============================] - 116s 241ms/step - loss: 0.4122 - accuracy: 0.8631 - lr: 0.0011\n",
            "Epoch 63/100\n",
            "480/480 [==============================] - 118s 246ms/step - loss: 0.4137 - accuracy: 0.8609 - lr: 0.0013\n",
            "Epoch 64/100\n",
            "480/480 [==============================] - 117s 243ms/step - loss: 0.4135 - accuracy: 0.8614 - lr: 0.0014\n",
            "Epoch 65/100\n",
            "480/480 [==============================] - 119s 248ms/step - loss: 0.4128 - accuracy: 0.8667 - lr: 0.0016\n",
            "Epoch 66/100\n",
            "480/480 [==============================] - 116s 240ms/step - loss: 0.4219 - accuracy: 0.8602 - lr: 0.0018\n",
            "Epoch 67/100\n",
            "480/480 [==============================] - 118s 247ms/step - loss: 0.4494 - accuracy: 0.8534 - lr: 0.0020\n",
            "Epoch 68/100\n",
            "480/480 [==============================] - 116s 242ms/step - loss: 0.4412 - accuracy: 0.8566 - lr: 0.0022\n",
            "Epoch 69/100\n",
            "480/480 [==============================] - 116s 242ms/step - loss: 0.4518 - accuracy: 0.8495 - lr: 0.0025\n",
            "Epoch 70/100\n",
            "480/480 [==============================] - 118s 246ms/step - loss: 0.4845 - accuracy: 0.8412 - lr: 0.0028\n",
            "Epoch 71/100\n",
            "480/480 [==============================] - 115s 240ms/step - loss: 0.4916 - accuracy: 0.8405 - lr: 0.0032\n",
            "Epoch 72/100\n",
            "480/480 [==============================] - 116s 241ms/step - loss: 0.5053 - accuracy: 0.8335 - lr: 0.0035\n",
            "Epoch 73/100\n",
            "480/480 [==============================] - 115s 239ms/step - loss: 0.5323 - accuracy: 0.8265 - lr: 0.0040\n",
            "Epoch 74/100\n",
            "480/480 [==============================] - 120s 248ms/step - loss: 0.5325 - accuracy: 0.8298 - lr: 0.0045\n",
            "Epoch 75/100\n",
            "480/480 [==============================] - 115s 240ms/step - loss: 0.5512 - accuracy: 0.8246 - lr: 0.0050\n",
            "Epoch 76/100\n",
            "480/480 [==============================] - 115s 239ms/step - loss: 0.5813 - accuracy: 0.8131 - lr: 0.0056\n",
            "Epoch 77/100\n",
            "480/480 [==============================] - 116s 242ms/step - loss: 0.6757 - accuracy: 0.7843 - lr: 0.0063\n",
            "Epoch 78/100\n",
            "480/480 [==============================] - 115s 239ms/step - loss: 0.7384 - accuracy: 0.7672 - lr: 0.0071\n",
            "Epoch 79/100\n",
            "480/480 [==============================] - 115s 240ms/step - loss: 0.8182 - accuracy: 0.7479 - lr: 0.0079\n",
            "Epoch 80/100\n",
            "480/480 [==============================] - 116s 241ms/step - loss: 0.9314 - accuracy: 0.7103 - lr: 0.0089\n",
            "Epoch 81/100\n",
            "480/480 [==============================] - 117s 243ms/step - loss: 1.0277 - accuracy: 0.6909 - lr: 0.0100\n",
            "Epoch 82/100\n",
            "480/480 [==============================] - 120s 250ms/step - loss: 1.1729 - accuracy: 0.6562 - lr: 0.0112\n",
            "Epoch 83/100\n",
            "480/480 [==============================] - 118s 245ms/step - loss: 1.3338 - accuracy: 0.6001 - lr: 0.0126\n",
            "Epoch 84/100\n",
            "480/480 [==============================] - 116s 242ms/step - loss: 1.3706 - accuracy: 0.5892 - lr: 0.0141\n",
            "Epoch 85/100\n",
            "480/480 [==============================] - 116s 241ms/step - loss: 1.6402 - accuracy: 0.5308 - lr: 0.0158\n",
            "Epoch 86/100\n",
            "480/480 [==============================] - 118s 246ms/step - loss: 1.8179 - accuracy: 0.4869 - lr: 0.0178\n",
            "Epoch 87/100\n",
            "480/480 [==============================] - 113s 236ms/step - loss: 1.9911 - accuracy: 0.4348 - lr: 0.0200\n",
            "Epoch 88/100\n",
            "480/480 [==============================] - 111s 232ms/step - loss: 2.1771 - accuracy: 0.3836 - lr: 0.0224\n",
            "Epoch 89/100\n",
            "480/480 [==============================] - 115s 239ms/step - loss: 2.2996 - accuracy: 0.3400 - lr: 0.0251\n",
            "Epoch 90/100\n",
            "480/480 [==============================] - 117s 243ms/step - loss: 2.3874 - accuracy: 0.3005 - lr: 0.0282\n",
            "Epoch 91/100\n",
            "480/480 [==============================] - 114s 238ms/step - loss: 2.5816 - accuracy: 0.2297 - lr: 0.0316\n",
            "Epoch 92/100\n",
            "480/480 [==============================] - 117s 243ms/step - loss: 2.7723 - accuracy: 0.1554 - lr: 0.0355\n",
            "Epoch 93/100\n",
            "480/480 [==============================] - 119s 248ms/step - loss: 2.8735 - accuracy: 0.1182 - lr: 0.0398\n",
            "Epoch 94/100\n",
            "480/480 [==============================] - 118s 246ms/step - loss: 2.9335 - accuracy: 0.0920 - lr: 0.0447\n",
            "Epoch 95/100\n",
            "480/480 [==============================] - 116s 242ms/step - loss: 2.9567 - accuracy: 0.0794 - lr: 0.0501\n",
            "Epoch 96/100\n",
            "480/480 [==============================] - 114s 238ms/step - loss: 2.9655 - accuracy: 0.0786 - lr: 0.0562\n",
            "Epoch 97/100\n",
            "480/480 [==============================] - 118s 245ms/step - loss: 3.0078 - accuracy: 0.0573 - lr: 0.0631\n",
            "Epoch 98/100\n",
            "480/480 [==============================] - 116s 242ms/step - loss: 3.0043 - accuracy: 0.0532 - lr: 0.0708\n",
            "Epoch 99/100\n",
            "480/480 [==============================] - 113s 235ms/step - loss: 3.0054 - accuracy: 0.0502 - lr: 0.0794\n",
            "Epoch 100/100\n",
            "480/480 [==============================] - 112s 233ms/step - loss: 3.0400 - accuracy: 0.0522 - lr: 0.0891\n"
          ]
        }
      ]
    },
    {
      "cell_type": "code",
      "source": [
        "plt.semilogx(lr_history.history[\"lr\"], lr_history.history[\"loss\"])\n",
        "plt.axis([1e-6, 10, 0, 10])"
      ],
      "metadata": {
        "colab": {
          "base_uri": "https://localhost:8080/",
          "height": 457
        },
        "id": "EbXA_w3-cWL7",
        "outputId": "f7c16980-6a76-42f0-c818-30ff02fa8a96"
      },
      "execution_count": null,
      "outputs": [
        {
          "output_type": "execute_result",
          "data": {
            "text/plain": [
              "(1e-06, 10.0, 0.0, 10.0)"
            ]
          },
          "metadata": {},
          "execution_count": 30
        },
        {
          "output_type": "display_data",
          "data": {
            "text/plain": [
              "<Figure size 640x480 with 1 Axes>"
            ],
            "image/png": "[encoded data removed]"
          },
          "metadata": {}
        }
      ]
    },
    {
      "cell_type": "markdown",
      "source": [
        "#Compile and Train the model"
      ],
      "metadata": {
        "id": "RO6MWP28cLJI"
      }
    },
    {
      "cell_type": "code",
      "source": [
        "model.compile(loss='categorical_crossentropy',\n",
        "                optimizer=tf.keras.optimizers.SGD(learning_rate=3.5481e-04, momentum=0.9),\n",
        "                metrics=['accuracy'])"
      ],
      "metadata": {
        "id": "-dRiwEkFXPMD"
      },
      "execution_count": null,
      "outputs": []
    },
    {
      "cell_type": "code",
      "source": [
        "EPOCHS = 20\n",
        "\n",
        "history = model.fit(\n",
        "      train_generator,\n",
        "      batch_size = 20,\n",
        "      steps_per_epoch=480,\n",
        "      epochs=EPOCHS,\n",
        "      validation_data=validation_generator,\n",
        "      validation_steps=59.6,\n",
        "      verbose=2)"
      ],
      "metadata": {
        "colab": {
          "base_uri": "https://localhost:8080/"
        },
        "id": "Fu0RTCOXjQ8u",
        "outputId": "fe575b87-ad9e-4f97-a5b1-bb622ec0f806"
      },
      "execution_count": null,
      "outputs": [
        {
          "output_type": "stream",
          "name": "stdout",
          "text": [
            "Epoch 1/20\n",
            "480/480 - 130s - loss: 1.8387 - accuracy: 0.4598 - val_loss: 0.9005 - val_accuracy: 0.7299 - 130s/epoch - 271ms/step\n",
            "Epoch 2/20\n",
            "480/480 - 114s - loss: 1.1132 - accuracy: 0.6571 - val_loss: 0.6839 - val_accuracy: 0.7928 - 114s/epoch - 237ms/step\n",
            "Epoch 3/20\n",
            "480/480 - 115s - loss: 0.9265 - accuracy: 0.7175 - val_loss: 0.6013 - val_accuracy: 0.8196 - 115s/epoch - 240ms/step\n",
            "Epoch 4/20\n",
            "480/480 - 113s - loss: 0.8335 - accuracy: 0.7400 - val_loss: 0.5612 - val_accuracy: 0.8247 - 113s/epoch - 236ms/step\n",
            "Epoch 5/20\n",
            "480/480 - 112s - loss: 0.7754 - accuracy: 0.7592 - val_loss: 0.5239 - val_accuracy: 0.8414 - 112s/epoch - 234ms/step\n",
            "Epoch 6/20\n",
            "480/480 - 113s - loss: 0.7270 - accuracy: 0.7753 - val_loss: 0.4863 - val_accuracy: 0.8414 - 113s/epoch - 235ms/step\n",
            "Epoch 7/20\n",
            "480/480 - 118s - loss: 0.6800 - accuracy: 0.7824 - val_loss: 0.4816 - val_accuracy: 0.8423 - 118s/epoch - 245ms/step\n",
            "Epoch 8/20\n",
            "480/480 - 116s - loss: 0.6469 - accuracy: 0.7989 - val_loss: 0.4492 - val_accuracy: 0.8482 - 116s/epoch - 242ms/step\n",
            "Epoch 9/20\n",
            "480/480 - 119s - loss: 0.6292 - accuracy: 0.8025 - val_loss: 0.4471 - val_accuracy: 0.8582 - 119s/epoch - 248ms/step\n",
            "Epoch 10/20\n",
            "480/480 - 113s - loss: 0.6182 - accuracy: 0.8076 - val_loss: 0.4210 - val_accuracy: 0.8565 - 113s/epoch - 235ms/step\n",
            "Epoch 11/20\n",
            "480/480 - 113s - loss: 0.5894 - accuracy: 0.8125 - val_loss: 0.4184 - val_accuracy: 0.8658 - 113s/epoch - 235ms/step\n",
            "Epoch 12/20\n",
            "480/480 - 112s - loss: 0.5756 - accuracy: 0.8169 - val_loss: 0.4129 - val_accuracy: 0.8607 - 112s/epoch - 234ms/step\n",
            "Epoch 13/20\n",
            "480/480 - 115s - loss: 0.5645 - accuracy: 0.8217 - val_loss: 0.4131 - val_accuracy: 0.8591 - 115s/epoch - 240ms/step\n",
            "Epoch 14/20\n",
            "480/480 - 114s - loss: 0.5421 - accuracy: 0.8287 - val_loss: 0.4102 - val_accuracy: 0.8565 - 114s/epoch - 237ms/step\n",
            "Epoch 15/20\n",
            "480/480 - 112s - loss: 0.5275 - accuracy: 0.8293 - val_loss: 0.3887 - val_accuracy: 0.8674 - 112s/epoch - 234ms/step\n",
            "Epoch 16/20\n",
            "480/480 - 114s - loss: 0.5136 - accuracy: 0.8372 - val_loss: 0.3922 - val_accuracy: 0.8742 - 114s/epoch - 238ms/step\n",
            "Epoch 17/20\n",
            "480/480 - 113s - loss: 0.5198 - accuracy: 0.8332 - val_loss: 0.3736 - val_accuracy: 0.8742 - 113s/epoch - 235ms/step\n",
            "Epoch 18/20\n",
            "480/480 - 113s - loss: 0.5179 - accuracy: 0.8364 - val_loss: 0.3707 - val_accuracy: 0.8767 - 113s/epoch - 235ms/step\n",
            "Epoch 19/20\n",
            "480/480 - 117s - loss: 0.4904 - accuracy: 0.8418 - val_loss: 0.3610 - val_accuracy: 0.8859 - 117s/epoch - 243ms/step\n",
            "Epoch 20/20\n",
            "480/480 - 114s - loss: 0.4728 - accuracy: 0.8495 - val_loss: 0.3607 - val_accuracy: 0.8851 - 114s/epoch - 238ms/step\n"
          ]
        }
      ]
    },
    {
      "cell_type": "markdown",
      "source": [
        "# Check train and val performance"
      ],
      "metadata": {
        "id": "JeTZiZB9ZIX0"
      }
    },
    {
      "cell_type": "code",
      "source": [
        "#-----------------------------------------------------------\n",
        "# Retrieve a list of list results on training and test data\n",
        "# sets for each training epoch\n",
        "#-----------------------------------------------------------\n",
        "acc=history.history['accuracy']\n",
        "val_acc=history.history['val_accuracy']\n",
        "loss=history.history['loss']\n",
        "val_loss=history.history['val_loss']\n",
        "\n",
        "epochs=range(len(acc)) # Get number of epochs\n",
        "\n",
        "#------------------------------------------------\n",
        "# Plot training and validation accuracy per epoch\n",
        "#------------------------------------------------\n",
        "plt.plot(epochs, acc, 'r', \"Training Accuracy\")\n",
        "plt.plot(epochs, val_acc, 'b', \"Validation Accuracy\")\n",
        "plt.title('Training and validation accuracy')\n",
        "plt.show()\n",
        "print(\"\")\n",
        "\n",
        "#------------------------------------------------\n",
        "# Plot training and validation loss per epoch\n",
        "#------------------------------------------------\n",
        "plt.plot(epochs, loss, 'r', \"Training Loss\")\n",
        "plt.plot(epochs, val_loss, 'b', \"Validation Loss\")\n",
        "plt.show()"
      ],
      "metadata": {
        "colab": {
          "base_uri": "https://localhost:8080/",
          "height": 874
        },
        "id": "sGpJ1PSMZNOS",
        "outputId": "42a8ebee-4bbb-4645-eeaf-0f19d0ec9b06"
      },
      "execution_count": null,
      "outputs": [
        {
          "output_type": "display_data",
          "data": {
            "text/plain": [
              "<Figure size 640x480 with 1 Axes>"
            ],
            "image/png": "[encoded data removed]"
          },
          "metadata": {}
        },
        {
          "output_type": "stream",
          "name": "stdout",
          "text": [
            "\n"
          ]
        },
        {
          "output_type": "display_data",
          "data": {
            "text/plain": [
              "<Figure size 640x480 with 1 Axes>"
            ],
            "image/png": "[encoded data removed]"
          },
          "metadata": {}
        }
      ]
    },
    {
      "cell_type": "markdown",
      "source": [
        "#Testing data"
      ],
      "metadata": {
        "id": "d9cCI89HUWDZ"
      }
    },
    {
      "cell_type": "code",
      "source": [
        "test_datagen = ImageDataGenerator(rescale=1./255)\n",
        "\n",
        "test_generator = test_datagen.flow_from_directory(\n",
        "        test_FileNames,\n",
        "        target_size=(224, 224),\n",
        "        batch_size=20,\n",
        "        class_mode='categorical',\n",
        "        shuffle=False)\n",
        "\n",
        "loss, accuracy = model.evaluate(test_generator)\n",
        "\n",
        "print(\"Test accuracy:\", accuracy)"
      ],
      "metadata": {
        "colab": {
          "base_uri": "https://localhost:8080/"
        },
        "id": "2chy5gy_UVMx",
        "outputId": "834954d7-1c66-4cf1-e84c-9185a6fc29a8"
      },
      "execution_count": null,
      "outputs": [
        {
          "output_type": "stream",
          "name": "stdout",
          "text": [
            "Found 1216 images belonging to 20 classes.\n",
            "61/61 [==============================] - 14s 199ms/step - loss: 0.4163 - accuracy: 0.8692\n",
            "Test accuracy: 0.8692434430122375\n"
          ]
        }
      ]
    },
    {
      "cell_type": "markdown",
      "source": [
        "#Make F1 table and Confusion Matrix"
      ],
      "metadata": {
        "id": "oTjA-i6z8R8I"
      }
    },
    {
      "cell_type": "code",
      "source": [
        "y_pred = model.predict(test_generator)\n",
        "predicted_labels = np.argmax(y_pred, axis=1)\n",
        "\n",
        "y_true = test_generator.classes\n",
        "\n",
        "tp = np.sum(np.logical_and(y_true == 1, predicted_labels == 1))\n",
        "fp = np.sum(np.logical_and(y_true == 0, predicted_labels == 1))\n",
        "tn = np.sum(np.logical_and(y_true == 0, predicted_labels == 0))\n",
        "fn = np.sum(np.logical_and(y_true == 1, predicted_labels == 0))\n",
        "\n",
        "data = {\n",
        "    'Actual Positive': [tp, fn],\n",
        "    'Actual Negative': [fp, tn]\n",
        "}\n",
        "\n",
        "index = ['Predicted Positive', 'Predicted Negative']\n",
        "f1_table = pd.DataFrame(data, index=index)\n",
        "\n",
        "print(f1_table)"
      ],
      "metadata": {
        "id": "bjt4nh_meb2e",
        "colab": {
          "base_uri": "https://localhost:8080/"
        },
        "outputId": "9c6082a1-45b3-4a58-9977-3f7edecae956"
      },
      "execution_count": null,
      "outputs": [
        {
          "output_type": "stream",
          "name": "stdout",
          "text": [
            "61/61 [==============================] - 9s 142ms/step\n",
            "                    Actual Positive  Actual Negative\n",
            "Predicted Positive               58                0\n",
            "Predicted Negative                0               44\n"
          ]
        }
      ]
    },
    {
      "cell_type": "markdown",
      "source": [
        "#Save model"
      ],
      "metadata": {
        "id": "ckUj10S7Mg5X"
      }
    },
    {
      "cell_type": "code",
      "source": [
        "#Save to H5 format\n",
        "model.save(\"model_freshgrocie.h5\")"
      ],
      "metadata": {
        "id": "DKfg9ocFMiRi"
      },
      "execution_count": null,
      "outputs": []
    },
    {
      "cell_type": "code",
      "source": [
        "#Save to TFLite format\n",
        "saved_model = tf.keras.models.load_model(\"model_freshgrocie.h5\")\n",
        "converter = tf.lite.TFLiteConverter.from_keras_model(saved_model)\n",
        "\n",
        "model_convert = converter.convert()\n",
        "file_convert = open (\"model_freshgrocie.tflite\", \"wb\")\n",
        "file_convert.write(model_convert)"
      ],
      "metadata": {
        "colab": {
          "base_uri": "https://localhost:8080/"
        },
        "id": "0yXgDNAxX37H",
        "outputId": "2520a42a-edfc-482b-ef11-9502321cc8ff"
      },
      "execution_count": null,
      "outputs": [
        {
          "output_type": "stream",
          "name": "stderr",
          "text": [
            "WARNING:absl:Found untraced functions such as _jit_compiled_convolution_op, _jit_compiled_convolution_op, _jit_compiled_convolution_op, _jit_compiled_convolution_op, _jit_compiled_convolution_op while saving (showing 5 of 71). These functions will not be directly callable after loading.\n"
          ]
        },
        {
          "output_type": "execute_result",
          "data": {
            "text/plain": [
              "68396428"
            ]
          },
          "metadata": {},
          "execution_count": 44
        }
      ]
    },
    {
      "cell_type": "code",
      "source": [
        "#Save to tfjs format\n",
        "!pip install tensorflowjs"
      ],
      "metadata": {
        "colab": {
          "base_uri": "https://localhost:8080/",
          "height": 1000
        },
        "id": "4y8Pwx5-pN2h",
        "outputId": "0f9aa9c6-8c93-4509-d32c-3c2ab581343d"
      },
      "execution_count": null,
      "outputs": [
        {
          "output_type": "stream",
          "name": "stdout",
          "text": [
            "Looking in indexes: https://pypi.org/simple, https://us-python.pkg.dev/colab-wheels/public/simple/\n",
            "Collecting tensorflowjs\n",
            "  Downloading tensorflowjs-4.6.0-py3-none-any.whl (85 kB)\n",
            "\u001b[2K     \u001b[90m━━━━━━━━━━━━━━━━━━━━━━━━━━━━━━━━━━━━━━━━\u001b[0m \u001b[32m85.1/85.1 kB\u001b[0m \u001b[31m3.2 MB/s\u001b[0m eta \u001b[36m0:00:00\u001b[0m\n",
            "\u001b[?25hCollecting flax<0.6.3,>=0.6.2 (from tensorflowjs)\n",
            "  Downloading flax-0.6.2-py3-none-any.whl (189 kB)\n",
            "\u001b[2K     \u001b[90m━━━━━━━━━━━━━━━━━━━━━━━━━━━━━━━━━━━━━━━\u001b[0m \u001b[32m189.9/189.9 kB\u001b[0m \u001b[31m7.6 MB/s\u001b[0m eta \u001b[36m0:00:00\u001b[0m\n",
            "\u001b[?25hRequirement already satisfied: importlib_resources>=5.9.0 in /usr/local/lib/python3.10/dist-packages (from tensorflowjs) (5.12.0)\n",
            "Requirement already satisfied: jax>=0.3.16 in /usr/local/lib/python3.10/dist-packages (from tensorflowjs) (0.4.8)\n",
            "Requirement already satisfied: tensorflow<3,>=2.12.0 in /usr/local/lib/python3.10/dist-packages (from tensorflowjs) (2.12.0)\n",
            "Collecting tensorflow-decision-forests>=1.3.0 (from tensorflowjs)\n",
            "  Downloading tensorflow_decision_forests-1.3.0-cp310-cp310-manylinux_2_17_x86_64.manylinux2014_x86_64.whl (16.4 MB)\n",
            "\u001b[2K     \u001b[90m━━━━━━━━━━━━━━━━━━━━━━━━━━━━━━━━━━━━━━━━\u001b[0m \u001b[32m16.4/16.4 MB\u001b[0m \u001b[31m94.3 MB/s\u001b[0m eta \u001b[36m0:00:00\u001b[0m\n",
            "\u001b[?25hRequirement already satisfied: six<2,>=1.12.0 in /usr/local/lib/python3.10/dist-packages (from tensorflowjs) (1.16.0)\n",
            "Requirement already satisfied: tensorflow-hub>=0.13.0 in /usr/local/lib/python3.10/dist-packages (from tensorflowjs) (0.13.0)\n",
            "Collecting packaging~=20.9 (from tensorflowjs)\n",
            "  Downloading packaging-20.9-py2.py3-none-any.whl (40 kB)\n",
            "\u001b[2K     \u001b[90m━━━━━━━━━━━━━━━━━━━━━━━━━━━━━━━━━━━━━━━━\u001b[0m \u001b[32m40.9/40.9 kB\u001b[0m \u001b[31m5.0 MB/s\u001b[0m eta \u001b[36m0:00:00\u001b[0m\n",
            "\u001b[?25hRequirement already satisfied: numpy>=1.12 in /usr/local/lib/python3.10/dist-packages (from flax<0.6.3,>=0.6.2->tensorflowjs) (1.22.4)\n",
            "Requirement already satisfied: matplotlib in /usr/local/lib/python3.10/dist-packages (from flax<0.6.3,>=0.6.2->tensorflowjs) (3.7.1)\n",
            "Requirement already satisfied: msgpack in /usr/local/lib/python3.10/dist-packages (from flax<0.6.3,>=0.6.2->tensorflowjs) (1.0.5)\n",
            "Requirement already satisfied: optax in /usr/local/lib/python3.10/dist-packages (from flax<0.6.3,>=0.6.2->tensorflowjs) (0.1.5)\n",
            "Requirement already satisfied: tensorstore in /usr/local/lib/python3.10/dist-packages (from flax<0.6.3,>=0.6.2->tensorflowjs) (0.1.36)\n",
            "Requirement already satisfied: rich>=11.1 in /usr/local/lib/python3.10/dist-packages (from flax<0.6.3,>=0.6.2->tensorflowjs) (13.3.4)\n",
            "Requirement already satisfied: typing-extensions>=4.1.1 in /usr/local/lib/python3.10/dist-packages (from flax<0.6.3,>=0.6.2->tensorflowjs) (4.5.0)\n",
            "Requirement already satisfied: PyYAML>=5.4.1 in /usr/local/lib/python3.10/dist-packages (from flax<0.6.3,>=0.6.2->tensorflowjs) (6.0)\n",
            "Requirement already satisfied: ml-dtypes>=0.0.3 in /usr/local/lib/python3.10/dist-packages (from jax>=0.3.16->tensorflowjs) (0.1.0)\n",
            "Requirement already satisfied: opt-einsum in /usr/local/lib/python3.10/dist-packages (from jax>=0.3.16->tensorflowjs) (3.3.0)\n",
            "Requirement already satisfied: scipy>=1.7 in /usr/local/lib/python3.10/dist-packages (from jax>=0.3.16->tensorflowjs) (1.10.1)\n",
            "Requirement already satisfied: pyparsing>=2.0.2 in /usr/local/lib/python3.10/dist-packages (from packaging~=20.9->tensorflowjs) (3.0.9)\n",
            "Requirement already satisfied: absl-py>=1.0.0 in /usr/local/lib/python3.10/dist-packages (from tensorflow<3,>=2.12.0->tensorflowjs) (1.4.0)\n",
            "Requirement already satisfied: astunparse>=1.6.0 in /usr/local/lib/python3.10/dist-packages (from tensorflow<3,>=2.12.0->tensorflowjs) (1.6.3)\n",
            "Requirement already satisfied: flatbuffers>=2.0 in /usr/local/lib/python3.10/dist-packages (from tensorflow<3,>=2.12.0->tensorflowjs) (23.3.3)\n",
            "Requirement already satisfied: gast<=0.4.0,>=0.2.1 in /usr/local/lib/python3.10/dist-packages (from tensorflow<3,>=2.12.0->tensorflowjs) (0.4.0)\n",
            "Requirement already satisfied: google-pasta>=0.1.1 in /usr/local/lib/python3.10/dist-packages (from tensorflow<3,>=2.12.0->tensorflowjs) (0.2.0)\n",
            "Requirement already satisfied: grpcio<2.0,>=1.24.3 in /usr/local/lib/python3.10/dist-packages (from tensorflow<3,>=2.12.0->tensorflowjs) (1.54.0)\n",
            "Requirement already satisfied: h5py>=2.9.0 in /usr/local/lib/python3.10/dist-packages (from tensorflow<3,>=2.12.0->tensorflowjs) (3.8.0)\n",
            "Requirement already satisfied: keras<2.13,>=2.12.0 in /usr/local/lib/python3.10/dist-packages (from tensorflow<3,>=2.12.0->tensorflowjs) (2.12.0)\n",
            "Requirement already satisfied: libclang>=13.0.0 in /usr/local/lib/python3.10/dist-packages (from tensorflow<3,>=2.12.0->tensorflowjs) (16.0.0)\n",
            "Requirement already satisfied: protobuf!=4.21.0,!=4.21.1,!=4.21.2,!=4.21.3,!=4.21.4,!=4.21.5,<5.0.0dev,>=3.20.3 in /usr/local/lib/python3.10/dist-packages (from tensorflow<3,>=2.12.0->tensorflowjs) (3.20.3)\n",
            "Requirement already satisfied: setuptools in /usr/local/lib/python3.10/dist-packages (from tensorflow<3,>=2.12.0->tensorflowjs) (67.7.2)\n",
            "Requirement already satisfied: tensorboard<2.13,>=2.12 in /usr/local/lib/python3.10/dist-packages (from tensorflow<3,>=2.12.0->tensorflowjs) (2.12.2)\n",
            "Requirement already satisfied: tensorflow-estimator<2.13,>=2.12.0 in /usr/local/lib/python3.10/dist-packages (from tensorflow<3,>=2.12.0->tensorflowjs) (2.12.0)\n",
            "Requirement already satisfied: termcolor>=1.1.0 in /usr/local/lib/python3.10/dist-packages (from tensorflow<3,>=2.12.0->tensorflowjs) (2.3.0)\n",
            "Requirement already satisfied: wrapt<1.15,>=1.11.0 in /usr/local/lib/python3.10/dist-packages (from tensorflow<3,>=2.12.0->tensorflowjs) (1.14.1)\n",
            "Requirement already satisfied: tensorflow-io-gcs-filesystem>=0.23.1 in /usr/local/lib/python3.10/dist-packages (from tensorflow<3,>=2.12.0->tensorflowjs) (0.32.0)\n",
            "Requirement already satisfied: pandas in /usr/local/lib/python3.10/dist-packages (from tensorflow-decision-forests>=1.3.0->tensorflowjs) (1.5.3)\n",
            "Requirement already satisfied: wheel in /usr/local/lib/python3.10/dist-packages (from tensorflow-decision-forests>=1.3.0->tensorflowjs) (0.40.0)\n",
            "Collecting wurlitzer (from tensorflow-decision-forests>=1.3.0->tensorflowjs)\n",
            "  Downloading wurlitzer-3.0.3-py3-none-any.whl (7.3 kB)\n",
            "Requirement already satisfied: markdown-it-py<3.0.0,>=2.2.0 in /usr/local/lib/python3.10/dist-packages (from rich>=11.1->flax<0.6.3,>=0.6.2->tensorflowjs) (2.2.0)\n",
            "Requirement already satisfied: pygments<3.0.0,>=2.13.0 in /usr/local/lib/python3.10/dist-packages (from rich>=11.1->flax<0.6.3,>=0.6.2->tensorflowjs) (2.14.0)\n",
            "Requirement already satisfied: google-auth<3,>=1.6.3 in /usr/local/lib/python3.10/dist-packages (from tensorboard<2.13,>=2.12->tensorflow<3,>=2.12.0->tensorflowjs) (2.17.3)\n",
            "Requirement already satisfied: google-auth-oauthlib<1.1,>=0.5 in /usr/local/lib/python3.10/dist-packages (from tensorboard<2.13,>=2.12->tensorflow<3,>=2.12.0->tensorflowjs) (1.0.0)\n",
            "Requirement already satisfied: markdown>=2.6.8 in /usr/local/lib/python3.10/dist-packages (from tensorboard<2.13,>=2.12->tensorflow<3,>=2.12.0->tensorflowjs) (3.4.3)\n",
            "Requirement already satisfied: requests<3,>=2.21.0 in /usr/local/lib/python3.10/dist-packages (from tensorboard<2.13,>=2.12->tensorflow<3,>=2.12.0->tensorflowjs) (2.27.1)\n",
            "Requirement already satisfied: tensorboard-data-server<0.8.0,>=0.7.0 in /usr/local/lib/python3.10/dist-packages (from tensorboard<2.13,>=2.12->tensorflow<3,>=2.12.0->tensorflowjs) (0.7.0)\n",
            "Requirement already satisfied: tensorboard-plugin-wit>=1.6.0 in /usr/local/lib/python3.10/dist-packages (from tensorboard<2.13,>=2.12->tensorflow<3,>=2.12.0->tensorflowjs) (1.8.1)\n",
            "Requirement already satisfied: werkzeug>=1.0.1 in /usr/local/lib/python3.10/dist-packages (from tensorboard<2.13,>=2.12->tensorflow<3,>=2.12.0->tensorflowjs) (2.3.0)\n",
            "Requirement already satisfied: contourpy>=1.0.1 in /usr/local/lib/python3.10/dist-packages (from matplotlib->flax<0.6.3,>=0.6.2->tensorflowjs) (1.0.7)\n",
            "Requirement already satisfied: cycler>=0.10 in /usr/local/lib/python3.10/dist-packages (from matplotlib->flax<0.6.3,>=0.6.2->tensorflowjs) (0.11.0)\n",
            "Requirement already satisfied: fonttools>=4.22.0 in /usr/local/lib/python3.10/dist-packages (from matplotlib->flax<0.6.3,>=0.6.2->tensorflowjs) (4.39.3)\n",
            "Requirement already satisfied: kiwisolver>=1.0.1 in /usr/local/lib/python3.10/dist-packages (from matplotlib->flax<0.6.3,>=0.6.2->tensorflowjs) (1.4.4)\n",
            "Requirement already satisfied: pillow>=6.2.0 in /usr/local/lib/python3.10/dist-packages (from matplotlib->flax<0.6.3,>=0.6.2->tensorflowjs) (8.4.0)\n",
            "Requirement already satisfied: python-dateutil>=2.7 in /usr/local/lib/python3.10/dist-packages (from matplotlib->flax<0.6.3,>=0.6.2->tensorflowjs) (2.8.2)\n",
            "Requirement already satisfied: chex>=0.1.5 in /usr/local/lib/python3.10/dist-packages (from optax->flax<0.6.3,>=0.6.2->tensorflowjs) (0.1.7)\n",
            "Requirement already satisfied: jaxlib>=0.1.37 in /usr/local/lib/python3.10/dist-packages (from optax->flax<0.6.3,>=0.6.2->tensorflowjs) (0.4.7+cuda11.cudnn86)\n",
            "Requirement already satisfied: pytz>=2020.1 in /usr/local/lib/python3.10/dist-packages (from pandas->tensorflow-decision-forests>=1.3.0->tensorflowjs) (2022.7.1)\n",
            "Requirement already satisfied: dm-tree>=0.1.5 in /usr/local/lib/python3.10/dist-packages (from chex>=0.1.5->optax->flax<0.6.3,>=0.6.2->tensorflowjs) (0.1.8)\n",
            "Requirement already satisfied: toolz>=0.9.0 in /usr/local/lib/python3.10/dist-packages (from chex>=0.1.5->optax->flax<0.6.3,>=0.6.2->tensorflowjs) (0.12.0)\n",
            "Requirement already satisfied: cachetools<6.0,>=2.0.0 in /usr/local/lib/python3.10/dist-packages (from google-auth<3,>=1.6.3->tensorboard<2.13,>=2.12->tensorflow<3,>=2.12.0->tensorflowjs) (5.3.0)\n",
            "Requirement already satisfied: pyasn1-modules>=0.2.1 in /usr/local/lib/python3.10/dist-packages (from google-auth<3,>=1.6.3->tensorboard<2.13,>=2.12->tensorflow<3,>=2.12.0->tensorflowjs) (0.3.0)\n",
            "Requirement already satisfied: rsa<5,>=3.1.4 in /usr/local/lib/python3.10/dist-packages (from google-auth<3,>=1.6.3->tensorboard<2.13,>=2.12->tensorflow<3,>=2.12.0->tensorflowjs) (4.9)\n",
            "Requirement already satisfied: requests-oauthlib>=0.7.0 in /usr/local/lib/python3.10/dist-packages (from google-auth-oauthlib<1.1,>=0.5->tensorboard<2.13,>=2.12->tensorflow<3,>=2.12.0->tensorflowjs) (1.3.1)\n",
            "Requirement already satisfied: mdurl~=0.1 in /usr/local/lib/python3.10/dist-packages (from markdown-it-py<3.0.0,>=2.2.0->rich>=11.1->flax<0.6.3,>=0.6.2->tensorflowjs) (0.1.2)\n",
            "Requirement already satisfied: urllib3<1.27,>=1.21.1 in /usr/local/lib/python3.10/dist-packages (from requests<3,>=2.21.0->tensorboard<2.13,>=2.12->tensorflow<3,>=2.12.0->tensorflowjs) (1.26.15)\n",
            "Requirement already satisfied: certifi>=2017.4.17 in /usr/local/lib/python3.10/dist-packages (from requests<3,>=2.21.0->tensorboard<2.13,>=2.12->tensorflow<3,>=2.12.0->tensorflowjs) (2022.12.7)\n",
            "Requirement already satisfied: charset-normalizer~=2.0.0 in /usr/local/lib/python3.10/dist-packages (from requests<3,>=2.21.0->tensorboard<2.13,>=2.12->tensorflow<3,>=2.12.0->tensorflowjs) (2.0.12)\n",
            "Requirement already satisfied: idna<4,>=2.5 in /usr/local/lib/python3.10/dist-packages (from requests<3,>=2.21.0->tensorboard<2.13,>=2.12->tensorflow<3,>=2.12.0->tensorflowjs) (3.4)\n",
            "Requirement already satisfied: MarkupSafe>=2.1.1 in /usr/local/lib/python3.10/dist-packages (from werkzeug>=1.0.1->tensorboard<2.13,>=2.12->tensorflow<3,>=2.12.0->tensorflowjs) (2.1.2)\n",
            "Requirement already satisfied: pyasn1<0.6.0,>=0.4.6 in /usr/local/lib/python3.10/dist-packages (from pyasn1-modules>=0.2.1->google-auth<3,>=1.6.3->tensorboard<2.13,>=2.12->tensorflow<3,>=2.12.0->tensorflowjs) (0.5.0)\n",
            "Requirement already satisfied: oauthlib>=3.0.0 in /usr/local/lib/python3.10/dist-packages (from requests-oauthlib>=0.7.0->google-auth-oauthlib<1.1,>=0.5->tensorboard<2.13,>=2.12->tensorflow<3,>=2.12.0->tensorflowjs) (3.2.2)\n",
            "Installing collected packages: wurlitzer, packaging, flax, tensorflow-decision-forests, tensorflowjs\n",
            "  Attempting uninstall: packaging\n",
            "    Found existing installation: packaging 23.1\n",
            "    Uninstalling packaging-23.1:\n",
            "      Successfully uninstalled packaging-23.1\n",
            "  Attempting uninstall: flax\n",
            "    Found existing installation: flax 0.6.9\n",
            "    Uninstalling flax-0.6.9:\n",
            "      Successfully uninstalled flax-0.6.9\n",
            "\u001b[31mERROR: pip's dependency resolver does not currently take into account all the packages that are installed. This behaviour is the source of the following dependency conflicts.\n",
            "statsmodels 0.13.5 requires packaging>=21.3, but you have packaging 20.9 which is incompatible.\n",
            "xarray 2022.12.0 requires packaging>=21.3, but you have packaging 20.9 which is incompatible.\u001b[0m\u001b[31m\n",
            "\u001b[0mSuccessfully installed flax-0.6.2 packaging-20.9 tensorflow-decision-forests-1.3.0 tensorflowjs-4.6.0 wurlitzer-3.0.3\n"
          ]
        },
        {
          "output_type": "display_data",
          "data": {
            "application/vnd.colab-display-data+json": {
              "pip_warning": {
                "packages": [
                  "packaging"
                ]
              }
            }
          },
          "metadata": {}
        }
      ]
    },
    {
      "cell_type": "code",
      "source": [
        "import tensorflowjs as tfjs\n",
        "\n",
        "saved_model = tf.keras.models.load_model(\"model_freshgrocie.h5\")\n",
        "\n",
        "tfjs.converters.save_keras_model(saved_model, '/content')"
      ],
      "metadata": {
        "id": "zTHPJM4Gp9zZ"
      },
      "execution_count": null,
      "outputs": []
    },
    {
      "cell_type": "markdown",
      "source": [
        "#Making the txt data"
      ],
      "metadata": {
        "id": "37F7TPddtRB6"
      }
    },
    {
      "cell_type": "code",
      "source": [
        "dataset_dir = '/content/fruits-and-vegetables-dataset/Fruits_Vegetables_Dataset'\n",
        "\n",
        "subdirectories = sorted(os.listdir(dataset_dir))\n",
        "\n",
        "class_names = []\n",
        "for subdir in subdirectories:\n",
        "    subdir_path = os.path.join(dataset_dir, subdir)\n",
        "    if os.path.isdir(subdir_path) and len(os.listdir(subdir_path)) > 0:\n",
        "        class_directories = sorted(os.listdir(subdir_path))\n",
        "        class_names.extend(class_directories)\n",
        "\n",
        "class_names = sorted(list(set(class_names)))\n",
        "\n",
        "label_mapping = {\n",
        "    'FreshApple': 'Fresh Apple',\n",
        "    'FreshBanana': 'Fresh Banana',\n",
        "    'FreshBellpepper' : 'Fresh Bellpepper',\n",
        "    'FreshCarrot' : 'Fresh Carrot',\n",
        "    'FreshCucumber' : 'Fresh Cucumber',\n",
        "    'FreshMango' : 'Fresh Mango',\n",
        "    'FreshOrange' : 'Fresh Orange',\n",
        "    'FreshPotato' : 'Fresh Potato',\n",
        "    'FreshStrawberry' : 'Fresh Strawberry',\n",
        "    'FreshTomato' : 'Fresh Tomato',\n",
        "    'RottenApple': 'Rotten Apple',\n",
        "    'RottenBanana': 'Rotten Banana',\n",
        "    'RottenBellpepper' : 'Rotten Bellpepper',\n",
        "    'RottenCarrot' : 'Rotten Carrot',\n",
        "    'RottenCucumber' : 'Rotten Cucumber',\n",
        "    'RottenMango' : 'Rotten Mango',\n",
        "    'RottenOrange' : 'Rotten Orange',\n",
        "    'RottenPotato' : 'Rotten Potato',\n",
        "    'RottenStrawberry' : 'Rotten Strawberry',\n",
        "    'RottenTomato' : 'Rotten Tomato'\n",
        "}\n",
        "\n",
        "with open('labels_class.txt', 'w') as f:\n",
        "    for class_name in class_names:\n",
        "      if class_name in label_mapping:\n",
        "          new_class_name = label_mapping[class_name]\n",
        "      else:\n",
        "          new_class_name = class_name\n",
        "\n",
        "      f.write(new_class_name + '\\n')"
      ],
      "metadata": {
        "id": "dtxDCveYtS39"
      },
      "execution_count": null,
      "outputs": []
    }
  ],
  "metadata": {
    "colab": {
      "provenance": [],
      "gpuType": "T4",
      "include_colab_link": true
    },
    "kernelspec": {
      "display_name": "Python 3",
      "name": "python3"
    },
    "language_info": {
      "name": "python"
    },
    "accelerator": "GPU"
  },
  "nbformat": 4,
  "nbformat_minor": 0
}